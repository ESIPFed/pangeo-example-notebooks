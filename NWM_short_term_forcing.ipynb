{
 "cells": [
  {
   "cell_type": "markdown",
   "metadata": {},
   "source": [
    "# Read National Water Model (NWM) model data from Zarr"
   ]
  },
  {
   "cell_type": "code",
   "execution_count": null,
   "metadata": {},
   "outputs": [],
   "source": [
    "%matplotlib inline\n",
    "\n",
    "from dask.distributed import Client, progress, LocalCluster\n",
    "from dask_kubernetes import KubeCluster\n",
    "import xarray as xr\n",
    "import s3fs"
   ]
  },
  {
   "cell_type": "code",
   "execution_count": null,
   "metadata": {},
   "outputs": [],
   "source": [
    "cluster = KubeCluster()"
   ]
  },
  {
   "cell_type": "code",
   "execution_count": null,
   "metadata": {},
   "outputs": [],
   "source": [
    "cluster.scale(10);"
   ]
  },
  {
   "cell_type": "code",
   "execution_count": null,
   "metadata": {
    "scrolled": true
   },
   "outputs": [],
   "source": [
    "cluster"
   ]
  },
  {
   "cell_type": "code",
   "execution_count": null,
   "metadata": {},
   "outputs": [],
   "source": [
    "client = Client(cluster)"
   ]
  },
  {
   "cell_type": "code",
   "execution_count": null,
   "metadata": {},
   "outputs": [],
   "source": [
    "# jetstream s3\n",
    "# url='https://iu.jetstream-cloud.org:8080'\n",
    "# fs = s3fs.S3FileSystem(client_kwargs=dict(endpoint_url=url), anon=True)\n",
    "# s3map = s3fs.S3Map('rsignell/nwm/test_week', s3=fs)"
   ]
  },
  {
   "cell_type": "code",
   "execution_count": null,
   "metadata": {},
   "outputs": [],
   "source": [
    "# AWS s3\n",
    "fs = s3fs.S3FileSystem(anon=True)\n",
    "s3map = s3fs.S3Map('esipfed/pangeo/NWM/short_term_forcing', s3=fs)"
   ]
  },
  {
   "cell_type": "code",
   "execution_count": null,
   "metadata": {},
   "outputs": [],
   "source": [
    "ds = xr.open_zarr(s3map)"
   ]
  },
  {
   "cell_type": "code",
   "execution_count": null,
   "metadata": {},
   "outputs": [],
   "source": [
    "ds"
   ]
  },
  {
   "cell_type": "code",
   "execution_count": null,
   "metadata": {},
   "outputs": [],
   "source": [
    "var='T2D'"
   ]
  },
  {
   "cell_type": "code",
   "execution_count": null,
   "metadata": {},
   "outputs": [],
   "source": [
    "ds[var].nbytes/1.e9"
   ]
  },
  {
   "cell_type": "code",
   "execution_count": null,
   "metadata": {},
   "outputs": [],
   "source": [
    "uvar = ds[var].max(dim='time').persist()\n",
    "progress(uvar)"
   ]
  },
  {
   "cell_type": "code",
   "execution_count": null,
   "metadata": {},
   "outputs": [],
   "source": [
    "isub=2\n",
    "uvar[::isub,::isub].plot.imshow(figsize=(8,6));"
   ]
  },
  {
   "cell_type": "code",
   "execution_count": null,
   "metadata": {},
   "outputs": [],
   "source": [
    "%%time\n",
    "ds1d = ds[var][:,2000,2000]\n",
    "ds1d.plot()"
   ]
  }
 ],
 "metadata": {
  "kernelspec": {
   "display_name": "Python [default]",
   "language": "python",
   "name": "python3"
  },
  "language_info": {
   "codemirror_mode": {
    "name": "ipython",
    "version": 3
   },
   "file_extension": ".py",
   "mimetype": "text/x-python",
   "name": "python",
   "nbconvert_exporter": "python",
   "pygments_lexer": "ipython3",
   "version": "3.6.5"
  },
  "widgets": {
   "application/vnd.jupyter.widget-state+json": {
    "state": {
     "003b8b41400f4380916705bccd2a2030": {
      "model_module": "@jupyter-widgets/controls",
      "model_module_version": "1.2.0",
      "model_name": "VBoxModel",
      "state": {
       "children": [
        "IPY_MODEL_cf5935b392a94969a4554b3afed7240f",
        "IPY_MODEL_a5bb45b65b784146a0c89e505d5fa0ec",
        "IPY_MODEL_3429f670015f43249ba9006fbe11367d"
       ],
       "layout": "IPY_MODEL_def57b73f76b4ee090bd7c7aac156b40"
      }
     },
     "00a8925b1a5f44d98b4b5a2b13af5598": {
      "model_module": "@jupyter-widgets/controls",
      "model_module_version": "1.2.0",
      "model_name": "HTMLModel",
      "state": {
       "layout": "IPY_MODEL_eac0a89c56da4d5abc99d1061c117b41",
       "style": "IPY_MODEL_d97f62e8838a49508df5fd5b41325cd0",
       "value": "<div style=\"padding: 0px 10px 0px 10px; text-align: right\">160 / 160</div>"
      }
     },
     "0119a1677eb0489898b91eb944d4be61": {
      "model_module": "@jupyter-widgets/controls",
      "model_module_version": "1.2.0",
      "model_name": "DescriptionStyleModel",
      "state": {
       "description_width": ""
      }
     },
     "03bbf55672ab4314b5c3b9a8b6e4000f": {
      "model_module": "@jupyter-widgets/controls",
      "model_module_version": "1.2.0",
      "model_name": "FloatProgressModel",
      "state": {
       "bar_style": "success",
       "layout": "IPY_MODEL_4e4ff2e614b344bf81912535613cb4d1",
       "max": 1,
       "style": "IPY_MODEL_a3c59209c5bb43808054360cae5b0858",
       "value": 1
      }
     },
     "047315680b6746219515412adfde7c4a": {
      "model_module": "@jupyter-widgets/controls",
      "model_module_version": "1.2.0",
      "model_name": "VBoxModel",
      "state": {
       "children": [
        "IPY_MODEL_601fe5e5da904a0e91bfc4d4aa16b4f7",
        "IPY_MODEL_e4063a066dea4a9c9b9d9f48d8f5fdef",
        "IPY_MODEL_5a69b3d00ce5444f9d6961f59e12ce93"
       ],
       "layout": "IPY_MODEL_3df6fcc4136e41c2aa9ff4c51de725e4"
      }
     },
     "0725d10fe6024d30ac09906d090dcacc": {
      "model_module": "@jupyter-widgets/controls",
      "model_module_version": "1.2.0",
      "model_name": "HTMLModel",
      "state": {
       "layout": "IPY_MODEL_ad8f7a77fa9b48c1ba9a93975c49e66f",
       "style": "IPY_MODEL_c328349c329c4538856575935766df2a",
       "value": "<div style=\"padding: 0px 10px 0px 10px; text-align:left; word-wrap: break-word;\">mean_agg-aggregate</div>"
      }
     },
     "0a3adc534fab4045a464d8ddb4baf24e": {
      "model_module": "@jupyter-widgets/controls",
      "model_module_version": "1.2.0",
      "model_name": "HTMLModel",
      "state": {
       "layout": "IPY_MODEL_4449191756db4dd5a9a750087fe8e4d8",
       "style": "IPY_MODEL_fddcd28be4c44e38a9bff3250a09c9d3",
       "value": "<div style=\"padding: 0px 10px 0px 10px; text-align: right\">161 / 161</div>"
      }
     },
     "0adf05c2d30c4f74b4c33feeac3b7714": {
      "model_module": "@jupyter-widgets/base",
      "model_module_version": "1.0.0",
      "model_name": "LayoutModel",
      "state": {
       "min_width": "500px"
      }
     },
     "0bc5e10723ea4e67b49c949ba84a7b6c": {
      "model_module": "@jupyter-widgets/base",
      "model_module_version": "1.0.0",
      "model_name": "LayoutModel",
      "state": {}
     },
     "0cd249f7dcd649a9ad3f1fa79fc0d0b6": {
      "model_module": "@jupyter-widgets/controls",
      "model_module_version": "1.2.0",
      "model_name": "HTMLModel",
      "state": {
       "layout": "IPY_MODEL_9b1081594c34484cbcf61140f7c8fa72",
       "style": "IPY_MODEL_9be4a63975514c75a6b161c5c9898b79",
       "value": "<div style=\"padding: 0px 10px 0px 10px; text-align: right\">160 / 160</div>"
      }
     },
     "104fa55247414ac3912006072eea7fb4": {
      "model_module": "@jupyter-widgets/controls",
      "model_module_version": "1.2.0",
      "model_name": "FloatProgressModel",
      "state": {
       "bar_style": "success",
       "layout": "IPY_MODEL_91ed33c026584a8a9ddedef467695519",
       "max": 1,
       "style": "IPY_MODEL_114817888339442eabbea2f8f47e6a1a",
       "value": 1
      }
     },
     "114817888339442eabbea2f8f47e6a1a": {
      "model_module": "@jupyter-widgets/controls",
      "model_module_version": "1.2.0",
      "model_name": "ProgressStyleModel",
      "state": {
       "description_width": ""
      }
     },
     "13667ea99b524a43aec63f826046f83b": {
      "model_module": "@jupyter-widgets/controls",
      "model_module_version": "1.2.0",
      "model_name": "FloatProgressModel",
      "state": {
       "bar_style": "success",
       "layout": "IPY_MODEL_a43c7e7a97df4872b95468547c5e9c8b",
       "max": 1,
       "style": "IPY_MODEL_634bae9a95744671a170596d919880b5",
       "value": 1
      }
     },
     "171496eeb261419d80cde3e308d54cba": {
      "model_module": "@jupyter-widgets/controls",
      "model_module_version": "1.2.0",
      "model_name": "FloatProgressModel",
      "state": {
       "bar_style": "success",
       "layout": "IPY_MODEL_9a8207bbbfa1418aa9b95ea6cee206cf",
       "max": 1,
       "style": "IPY_MODEL_c83c753407c246019c65efc4a1a9b011",
       "value": 1
      }
     },
     "17c6884c09814af7b6cdb0625d338629": {
      "model_module": "@jupyter-widgets/controls",
      "model_module_version": "1.2.0",
      "model_name": "DescriptionStyleModel",
      "state": {
       "description_width": ""
      }
     },
     "183c09328eeb42f3ba8e5884cca0d8dc": {
      "model_module": "@jupyter-widgets/controls",
      "model_module_version": "1.2.0",
      "model_name": "HTMLModel",
      "state": {
       "layout": "IPY_MODEL_643b49cb14344d058256466ee4340499",
       "style": "IPY_MODEL_689681bdc43d4852880bea97be318cf0",
       "value": "\n<div>\n  <style scoped>\n    .dataframe tbody tr th:only-of-type {\n        vertical-align: middle;\n    }\n\n    .dataframe tbody tr th {\n        vertical-align: top;\n    }\n\n    .dataframe thead th {\n        text-align: right;\n    }\n  </style>\n  <table style=\"text-align: right;\">\n    <tr><th>Workers</th> <td>25</td></tr>\n    <tr><th>Cores</th> <td>50</td></tr>\n    <tr><th>Memory</th> <td>150.00 GB</td></tr>\n  </table>\n</div>\n"
      }
     },
     "1848f9b55a6b4407a1b9cad5c8a4d049": {
      "model_module": "@jupyter-widgets/base",
      "model_module_version": "1.0.0",
      "model_name": "LayoutModel",
      "state": {}
     },
     "1bb5ce72ce26459d90223c1e3022b6bd": {
      "model_module": "@jupyter-widgets/controls",
      "model_module_version": "1.2.0",
      "model_name": "ButtonModel",
      "state": {
       "description": "Adapt",
       "layout": "IPY_MODEL_afd93069108d458c8c693557efa22fff",
       "style": "IPY_MODEL_98bbaaee86034d9daebeab97bc4af4ab"
      }
     },
     "1c919c443ad2433ab02f3802eb25d91e": {
      "model_module": "@jupyter-widgets/controls",
      "model_module_version": "1.2.0",
      "model_name": "HTMLModel",
      "state": {
       "layout": "IPY_MODEL_b55c934d1d374400b299a56972d8158a",
       "style": "IPY_MODEL_17c6884c09814af7b6cdb0625d338629",
       "value": "<div style=\"padding: 0px 10px 0px 10px; text-align:left; word-wrap: break-word;\">zarr</div>"
      }
     },
     "20267df576e541a59397e7e1c1e5d673": {
      "model_module": "@jupyter-widgets/controls",
      "model_module_version": "1.2.0",
      "model_name": "HBoxModel",
      "state": {
       "children": [
        "IPY_MODEL_81b2c4cd7dab4649b78a7e72cf390fcd",
        "IPY_MODEL_76c11f9aade148bf8055842bea37ada8",
        "IPY_MODEL_1bb5ce72ce26459d90223c1e3022b6bd"
       ],
       "layout": "IPY_MODEL_7b4ef9c72d244b349087a4679820becc"
      }
     },
     "233a98b486e14bc49e97003431879fd9": {
      "model_module": "@jupyter-widgets/controls",
      "model_module_version": "1.2.0",
      "model_name": "ProgressStyleModel",
      "state": {
       "description_width": ""
      }
     },
     "27930d34c4554a3089f3dfd6746f6790": {
      "model_module": "@jupyter-widgets/controls",
      "model_module_version": "1.2.0",
      "model_name": "FloatProgressModel",
      "state": {
       "bar_style": "success",
       "layout": "IPY_MODEL_e6baee8b096947f6bb9399f601b1038c",
       "max": 1,
       "style": "IPY_MODEL_4c4553855c954b65b07d9f56e6053b20",
       "value": 1
      }
     },
     "28c5efb27d524e4a800ad8b860ac5cd6": {
      "model_module": "@jupyter-widgets/controls",
      "model_module_version": "1.2.0",
      "model_name": "HTMLModel",
      "state": {
       "layout": "IPY_MODEL_83bb75d8145d4ff8820dd704acff89fe",
       "style": "IPY_MODEL_fb28cc1a6c7a4a9fa6856352589a3040",
       "value": "<div style=\"padding: 0px 10px 0px 10px; text-align:left; word-wrap: break-word;\">mean_agg-aggregate</div>"
      }
     },
     "2b6c339cc45041b69bd2ad9f30d52eca": {
      "model_module": "@jupyter-widgets/controls",
      "model_module_version": "1.2.0",
      "model_name": "VBoxModel",
      "state": {
       "children": [
        "IPY_MODEL_85f27051a8b84a198f89a7b8ee52e974",
        "IPY_MODEL_003b8b41400f4380916705bccd2a2030"
       ],
       "layout": "IPY_MODEL_4b8f3ea181e240afb6e0a44d52ab2d5a"
      }
     },
     "2c63ea3bc6dc448ea7fd190163d31f97": {
      "model_module": "@jupyter-widgets/base",
      "model_module_version": "1.0.0",
      "model_name": "LayoutModel",
      "state": {}
     },
     "2d1eff98935c475883ec787780dd799f": {
      "model_module": "@jupyter-widgets/base",
      "model_module_version": "1.0.0",
      "model_name": "LayoutModel",
      "state": {}
     },
     "30c985a0334c4c41911437e1584851ce": {
      "model_module": "@jupyter-widgets/controls",
      "model_module_version": "1.2.0",
      "model_name": "HTMLModel",
      "state": {
       "layout": "IPY_MODEL_c97d35b70d844254aff1a06cc149a007",
       "style": "IPY_MODEL_6f5b2729cdab40ae83a98c53967c68be",
       "value": "<div style=\"padding: 0px 10px 0px 10px; text-align: right\">160 / 160</div>"
      }
     },
     "3415cc817fe54c1580d6f64dc4fd6d8c": {
      "model_module": "@jupyter-widgets/base",
      "model_module_version": "1.0.0",
      "model_name": "LayoutModel",
      "state": {}
     },
     "3429f670015f43249ba9006fbe11367d": {
      "model_module": "@jupyter-widgets/controls",
      "model_module_version": "1.2.0",
      "model_name": "HBoxModel",
      "state": {
       "children": [
        "IPY_MODEL_00a8925b1a5f44d98b4b5a2b13af5598",
        "IPY_MODEL_03bbf55672ab4314b5c3b9a8b6e4000f",
        "IPY_MODEL_ea574a7fd1e84d1fa65f693392b15131"
       ],
       "layout": "IPY_MODEL_0bc5e10723ea4e67b49c949ba84a7b6c"
      }
     },
     "36274150559b41669bfb3512de24ebc9": {
      "model_module": "@jupyter-widgets/controls",
      "model_module_version": "1.2.0",
      "model_name": "DescriptionStyleModel",
      "state": {
       "description_width": ""
      }
     },
     "362b714b642b4e21a30dc2825113d84c": {
      "model_module": "@jupyter-widgets/controls",
      "model_module_version": "1.2.0",
      "model_name": "HBoxModel",
      "state": {
       "children": [
        "IPY_MODEL_be7af075b8c44bb789507531717e51f8",
        "IPY_MODEL_3aa81024640f4016999f77db6c783b4c",
        "IPY_MODEL_621410d87bfc44b6bfa8b295b5d18c7e"
       ],
       "layout": "IPY_MODEL_9e2be92f07ae4d86aa88d867d19c0cf4"
      }
     },
     "3aa81024640f4016999f77db6c783b4c": {
      "model_module": "@jupyter-widgets/controls",
      "model_module_version": "1.2.0",
      "model_name": "IntTextModel",
      "state": {
       "description": "Maximum",
       "layout": "IPY_MODEL_d9761f2d6c594c3f953a44b420015e89",
       "step": 1,
       "style": "IPY_MODEL_36274150559b41669bfb3512de24ebc9"
      }
     },
     "3da9ce15a89441a9a130cc760328285f": {
      "model_module": "@jupyter-widgets/controls",
      "model_module_version": "1.2.0",
      "model_name": "DescriptionStyleModel",
      "state": {
       "description_width": ""
      }
     },
     "3df6fcc4136e41c2aa9ff4c51de725e4": {
      "model_module": "@jupyter-widgets/base",
      "model_module_version": "1.0.0",
      "model_name": "LayoutModel",
      "state": {}
     },
     "3ed646582c8d4bb3acf3d570cc247a46": {
      "model_module": "@jupyter-widgets/base",
      "model_module_version": "1.0.0",
      "model_name": "LayoutModel",
      "state": {}
     },
     "4449191756db4dd5a9a750087fe8e4d8": {
      "model_module": "@jupyter-widgets/base",
      "model_module_version": "1.0.0",
      "model_name": "LayoutModel",
      "state": {}
     },
     "4525e42d0282458986fe7064517c5270": {
      "model_module": "@jupyter-widgets/controls",
      "model_module_version": "1.2.0",
      "model_name": "ProgressStyleModel",
      "state": {
       "description_width": ""
      }
     },
     "465dbeb110b346ce874372a4d5986c2f": {
      "model_module": "@jupyter-widgets/base",
      "model_module_version": "1.0.0",
      "model_name": "LayoutModel",
      "state": {}
     },
     "487b77341fe0430c873614eed97f2d60": {
      "model_module": "@jupyter-widgets/base",
      "model_module_version": "1.0.0",
      "model_name": "LayoutModel",
      "state": {}
     },
     "4b8f3ea181e240afb6e0a44d52ab2d5a": {
      "model_module": "@jupyter-widgets/base",
      "model_module_version": "1.0.0",
      "model_name": "LayoutModel",
      "state": {}
     },
     "4c4553855c954b65b07d9f56e6053b20": {
      "model_module": "@jupyter-widgets/controls",
      "model_module_version": "1.2.0",
      "model_name": "ProgressStyleModel",
      "state": {
       "description_width": ""
      }
     },
     "4e4ff2e614b344bf81912535613cb4d1": {
      "model_module": "@jupyter-widgets/base",
      "model_module_version": "1.0.0",
      "model_name": "LayoutModel",
      "state": {}
     },
     "4fabc8a990ed4d4896147ac460954a52": {
      "model_module": "@jupyter-widgets/controls",
      "model_module_version": "1.2.0",
      "model_name": "DescriptionStyleModel",
      "state": {
       "description_width": ""
      }
     },
     "51af814611b64098ab453f625536d866": {
      "model_module": "@jupyter-widgets/base",
      "model_module_version": "1.0.0",
      "model_name": "LayoutModel",
      "state": {}
     },
     "53c363c1e19147e9abbbd920131f0308": {
      "model_module": "@jupyter-widgets/controls",
      "model_module_version": "1.2.0",
      "model_name": "ButtonStyleModel",
      "state": {}
     },
     "543767ebd75d463d99a82161866d254e": {
      "model_module": "@jupyter-widgets/controls",
      "model_module_version": "1.2.0",
      "model_name": "HBoxModel",
      "state": {
       "children": [
        "IPY_MODEL_d3728e29a19d4118a51be7c3e12fc52e",
        "IPY_MODEL_fb15b6c526e24ca4991a00fa3c11bb4d"
       ],
       "layout": "IPY_MODEL_aafc0131552e41d1a81d9b6bce0afc39"
      }
     },
     "554c86632f70410887710ac5a5c6ea17": {
      "model_module": "@jupyter-widgets/base",
      "model_module_version": "1.0.0",
      "model_name": "LayoutModel",
      "state": {
       "min_width": "500px"
      }
     },
     "58416e9876044ab59a63b4ad6851a087": {
      "model_module": "@jupyter-widgets/controls",
      "model_module_version": "1.2.0",
      "model_name": "HTMLModel",
      "state": {
       "layout": "IPY_MODEL_fd642768735b4e6285701dcdf43d14b7",
       "style": "IPY_MODEL_7db44ac404db4d0eb4327e7ab363d447",
       "value": "<div style=\"padding: 0px 10px 5px 10px\"><b>Finished:</b> 11.6s</div>"
      }
     },
     "594995797de44e599ccf626b5ac9620d": {
      "model_module": "@jupyter-widgets/controls",
      "model_module_version": "1.2.0",
      "model_name": "ButtonModel",
      "state": {
       "description": "Scale",
       "layout": "IPY_MODEL_afd93069108d458c8c693557efa22fff",
       "style": "IPY_MODEL_c46e86cd866941508e4c367e2c69387a"
      }
     },
     "5a69b3d00ce5444f9d6961f59e12ce93": {
      "model_module": "@jupyter-widgets/controls",
      "model_module_version": "1.2.0",
      "model_name": "HTMLModel",
      "state": {
       "layout": "IPY_MODEL_487b77341fe0430c873614eed97f2d60",
       "style": "IPY_MODEL_8dec0baa3d314415bcb90c50a09f9b4e",
       "value": "<p><b>Dashboard: </b><a href=\"/user/rsignell-usgs/proxy/8787/status\" target=\"_blank\">/user/rsignell-usgs/proxy/8787/status</a></p>\n"
      }
     },
     "5b06299c6c0449339ca9d11b509f7076": {
      "model_module": "@jupyter-widgets/base",
      "model_module_version": "1.0.0",
      "model_name": "LayoutModel",
      "state": {}
     },
     "5bc00dac00c343dd86eb9b2dc47a2583": {
      "model_module": "@jupyter-widgets/controls",
      "model_module_version": "1.2.0",
      "model_name": "HBoxModel",
      "state": {
       "children": [
        "IPY_MODEL_763d6ae96ad64f6cbd81bdda851f9d3c",
        "IPY_MODEL_fab1755ba40445678ffa0dd6465f0197",
        "IPY_MODEL_7ce1dd93bb9049d2b3847072aa3b808a"
       ],
       "layout": "IPY_MODEL_e2c1293912ea43328a4124a623218964"
      }
     },
     "5ce7f73473f045eda8123e2b480a17ee": {
      "model_module": "@jupyter-widgets/controls",
      "model_module_version": "1.2.0",
      "model_name": "HBoxModel",
      "state": {
       "children": [
        "IPY_MODEL_c554a1320fe8461fbec636643ccee8f7",
        "IPY_MODEL_171496eeb261419d80cde3e308d54cba",
        "IPY_MODEL_5e9147aaca7241c68b9d77fc10a99b19"
       ],
       "layout": "IPY_MODEL_e7ee5b44f0094644893a665ab98685ad"
      }
     },
     "5d7e905ce7124fce9ae0db1c631b143a": {
      "model_module": "@jupyter-widgets/controls",
      "model_module_version": "1.2.0",
      "model_name": "DescriptionStyleModel",
      "state": {
       "description_width": ""
      }
     },
     "5e9147aaca7241c68b9d77fc10a99b19": {
      "model_module": "@jupyter-widgets/controls",
      "model_module_version": "1.2.0",
      "model_name": "HTMLModel",
      "state": {
       "layout": "IPY_MODEL_babcb42a54bc4ca18b8b68dd09c46c15",
       "style": "IPY_MODEL_a9f04fb1f6f34e7b814e5799da594b04",
       "value": "<div style=\"padding: 0px 10px 0px 10px; text-align:left; word-wrap: break-word;\">zarr</div>"
      }
     },
     "5fb4d567c88840ad9a03d5d9c5aaeb48": {
      "model_module": "@jupyter-widgets/controls",
      "model_module_version": "1.2.0",
      "model_name": "HTMLModel",
      "state": {
       "layout": "IPY_MODEL_763b7cb78c4c4d88a79d54a2f95e757a",
       "style": "IPY_MODEL_de5c08ede95a4b9e81cec2015eebefdb",
       "value": "<p><b>Dashboard: </b><a href=\"/user/rsignell-usgs/proxy/8787/status\" target=\"_blank\">/user/rsignell-usgs/proxy/8787/status</a></p>\n"
      }
     },
     "601fe5e5da904a0e91bfc4d4aa16b4f7": {
      "model_module": "@jupyter-widgets/controls",
      "model_module_version": "1.2.0",
      "model_name": "HTMLModel",
      "state": {
       "layout": "IPY_MODEL_ed301af895ab44cfb47791b43eafa12b",
       "style": "IPY_MODEL_c9b1654101fc45ac93c94611debee7ab",
       "value": "<h2>KubeCluster</h2>"
      }
     },
     "621410d87bfc44b6bfa8b295b5d18c7e": {
      "model_module": "@jupyter-widgets/controls",
      "model_module_version": "1.2.0",
      "model_name": "ButtonModel",
      "state": {
       "description": "Adapt",
       "layout": "IPY_MODEL_d9761f2d6c594c3f953a44b420015e89",
       "style": "IPY_MODEL_7829d10910e641039261bd307878447f"
      }
     },
     "62e1127c2908448f83010f261a110a45": {
      "model_module": "@jupyter-widgets/base",
      "model_module_version": "1.0.0",
      "model_name": "LayoutModel",
      "state": {}
     },
     "634bae9a95744671a170596d919880b5": {
      "model_module": "@jupyter-widgets/controls",
      "model_module_version": "1.2.0",
      "model_name": "ProgressStyleModel",
      "state": {
       "description_width": ""
      }
     },
     "6373e9d4120a4dcc97f499a53d1f5580": {
      "model_module": "@jupyter-widgets/controls",
      "model_module_version": "1.2.0",
      "model_name": "ProgressStyleModel",
      "state": {
       "description_width": ""
      }
     },
     "643b49cb14344d058256466ee4340499": {
      "model_module": "@jupyter-widgets/base",
      "model_module_version": "1.0.0",
      "model_name": "LayoutModel",
      "state": {
       "min_width": "150px"
      }
     },
     "64613b8800ab4704a6051dc584a83b8b": {
      "model_module": "@jupyter-widgets/base",
      "model_module_version": "1.0.0",
      "model_name": "LayoutModel",
      "state": {}
     },
     "666cc0321d6549ad8df5a720daddbedc": {
      "model_module": "@jupyter-widgets/controls",
      "model_module_version": "1.2.0",
      "model_name": "DescriptionStyleModel",
      "state": {
       "description_width": ""
      }
     },
     "68476ea69db448a9b0a912bd95ff29fc": {
      "model_module": "@jupyter-widgets/controls",
      "model_module_version": "1.2.0",
      "model_name": "HBoxModel",
      "state": {
       "children": [
        "IPY_MODEL_0a3adc534fab4045a464d8ddb4baf24e",
        "IPY_MODEL_69db1d4359a447019ed514fe5a7b9a9a",
        "IPY_MODEL_8ae25cfa1b8b4edc9592d8aec036382a"
       ],
       "layout": "IPY_MODEL_c8f82a1b904441edb9c074f746d8b98a"
      }
     },
     "689681bdc43d4852880bea97be318cf0": {
      "model_module": "@jupyter-widgets/controls",
      "model_module_version": "1.2.0",
      "model_name": "DescriptionStyleModel",
      "state": {
       "description_width": ""
      }
     },
     "68bc28ff3e634af3bef52d8955502f11": {
      "model_module": "@jupyter-widgets/controls",
      "model_module_version": "1.2.0",
      "model_name": "DescriptionStyleModel",
      "state": {
       "description_width": ""
      }
     },
     "69db1d4359a447019ed514fe5a7b9a9a": {
      "model_module": "@jupyter-widgets/controls",
      "model_module_version": "1.2.0",
      "model_name": "FloatProgressModel",
      "state": {
       "bar_style": "success",
       "layout": "IPY_MODEL_72ca707dd75a4138aed842bc342f6869",
       "max": 1,
       "style": "IPY_MODEL_8c5ec29b0dcb495fac96f0a2ef6c363f",
       "value": 1
      }
     },
     "6f5b2729cdab40ae83a98c53967c68be": {
      "model_module": "@jupyter-widgets/controls",
      "model_module_version": "1.2.0",
      "model_name": "DescriptionStyleModel",
      "state": {
       "description_width": ""
      }
     },
     "6fd3768a95a34080bac8796abd4003b0": {
      "model_module": "@jupyter-widgets/controls",
      "model_module_version": "1.2.0",
      "model_name": "DescriptionStyleModel",
      "state": {
       "description_width": ""
      }
     },
     "6ffaa852913d41b6a47456bd8b1a32f7": {
      "model_module": "@jupyter-widgets/base",
      "model_module_version": "1.0.0",
      "model_name": "LayoutModel",
      "state": {}
     },
     "7133490239c1455086603c897d911837": {
      "model_module": "@jupyter-widgets/base",
      "model_module_version": "1.0.0",
      "model_name": "LayoutModel",
      "state": {}
     },
     "71b84b0bac2747c681004651a951f02b": {
      "model_module": "@jupyter-widgets/base",
      "model_module_version": "1.0.0",
      "model_name": "LayoutModel",
      "state": {}
     },
     "72ca707dd75a4138aed842bc342f6869": {
      "model_module": "@jupyter-widgets/base",
      "model_module_version": "1.0.0",
      "model_name": "LayoutModel",
      "state": {}
     },
     "73277f034f7a4e3f84d28db5b1dabb71": {
      "model_module": "@jupyter-widgets/base",
      "model_module_version": "1.0.0",
      "model_name": "LayoutModel",
      "state": {}
     },
     "7519f0697a534c08a7805a8ac691a8b3": {
      "model_module": "@jupyter-widgets/controls",
      "model_module_version": "1.2.0",
      "model_name": "HBoxModel",
      "state": {
       "children": [
        "IPY_MODEL_183c09328eeb42f3ba8e5884cca0d8dc",
        "IPY_MODEL_daf53e7634a84b189f63c0024b481436"
       ],
       "layout": "IPY_MODEL_b995d8d11a264feb990c75964bc27e3e"
      }
     },
     "760e57a290f44c9d893b4ad40d0b124f": {
      "model_module": "@jupyter-widgets/controls",
      "model_module_version": "1.2.0",
      "model_name": "HTMLModel",
      "state": {
       "layout": "IPY_MODEL_ca56b62b2b98442c9f40457b5e45c542",
       "style": "IPY_MODEL_3da9ce15a89441a9a130cc760328285f",
       "value": "<div style=\"padding: 0px 10px 0px 10px; text-align:left; word-wrap: break-word;\">mean_chunk</div>"
      }
     },
     "763b7cb78c4c4d88a79d54a2f95e757a": {
      "model_module": "@jupyter-widgets/base",
      "model_module_version": "1.0.0",
      "model_name": "LayoutModel",
      "state": {}
     },
     "763d6ae96ad64f6cbd81bdda851f9d3c": {
      "model_module": "@jupyter-widgets/controls",
      "model_module_version": "1.2.0",
      "model_name": "HTMLModel",
      "state": {
       "layout": "IPY_MODEL_2c63ea3bc6dc448ea7fd190163d31f97",
       "style": "IPY_MODEL_68bc28ff3e634af3bef52d8955502f11",
       "value": "<div style=\"padding: 0px 10px 0px 10px; text-align: right\">160 / 160</div>"
      }
     },
     "76c11f9aade148bf8055842bea37ada8": {
      "model_module": "@jupyter-widgets/controls",
      "model_module_version": "1.2.0",
      "model_name": "IntTextModel",
      "state": {
       "description": "Maximum",
       "layout": "IPY_MODEL_afd93069108d458c8c693557efa22fff",
       "step": 1,
       "style": "IPY_MODEL_666cc0321d6549ad8df5a720daddbedc"
      }
     },
     "7757467c7fa6482fb554cd8298e0b541": {
      "model_module": "@jupyter-widgets/controls",
      "model_module_version": "1.2.0",
      "model_name": "HBoxModel",
      "state": {
       "children": [
        "IPY_MODEL_0cd249f7dcd649a9ad3f1fa79fc0d0b6",
        "IPY_MODEL_104fa55247414ac3912006072eea7fb4",
        "IPY_MODEL_760e57a290f44c9d893b4ad40d0b124f"
       ],
       "layout": "IPY_MODEL_3415cc817fe54c1580d6f64dc4fd6d8c"
      }
     },
     "7829d10910e641039261bd307878447f": {
      "model_module": "@jupyter-widgets/controls",
      "model_module_version": "1.2.0",
      "model_name": "ButtonStyleModel",
      "state": {}
     },
     "7b44c91b861e4106b65dd91e17ecec27": {
      "model_module": "@jupyter-widgets/base",
      "model_module_version": "1.0.0",
      "model_name": "LayoutModel",
      "state": {}
     },
     "7b4ef9c72d244b349087a4679820becc": {
      "model_module": "@jupyter-widgets/base",
      "model_module_version": "1.0.0",
      "model_name": "LayoutModel",
      "state": {}
     },
     "7bff1be7c6854469816c131b55d18d80": {
      "model_module": "@jupyter-widgets/controls",
      "model_module_version": "1.2.0",
      "model_name": "VBoxModel",
      "state": {
       "children": [
        "IPY_MODEL_e6fdf358a22a4faeaddd441fade076a2",
        "IPY_MODEL_d97b382ed1e24ab2a0d88de1330ae919"
       ],
       "layout": "IPY_MODEL_f10024106e53499e826ebcd62bf7172c"
      }
     },
     "7ce1dd93bb9049d2b3847072aa3b808a": {
      "model_module": "@jupyter-widgets/controls",
      "model_module_version": "1.2.0",
      "model_name": "HTMLModel",
      "state": {
       "layout": "IPY_MODEL_8340afb051c54b6f95d46281033f8098",
       "style": "IPY_MODEL_9b939f7d316f44dd8239986f02e400f7",
       "value": "<div style=\"padding: 0px 10px 0px 10px; text-align:left; word-wrap: break-word;\">mean_chunk</div>"
      }
     },
     "7db44ac404db4d0eb4327e7ab363d447": {
      "model_module": "@jupyter-widgets/controls",
      "model_module_version": "1.2.0",
      "model_name": "DescriptionStyleModel",
      "state": {
       "description_width": ""
      }
     },
     "81b2c4cd7dab4649b78a7e72cf390fcd": {
      "model_module": "@jupyter-widgets/controls",
      "model_module_version": "1.2.0",
      "model_name": "IntTextModel",
      "state": {
       "description": "Minimum",
       "layout": "IPY_MODEL_afd93069108d458c8c693557efa22fff",
       "step": 1,
       "style": "IPY_MODEL_86101268fbca462e80f8fafd71e58c4e"
      }
     },
     "82e953ba21a447d0876b81b3dbe683eb": {
      "model_module": "@jupyter-widgets/controls",
      "model_module_version": "1.2.0",
      "model_name": "DescriptionStyleModel",
      "state": {
       "description_width": ""
      }
     },
     "8340afb051c54b6f95d46281033f8098": {
      "model_module": "@jupyter-widgets/base",
      "model_module_version": "1.0.0",
      "model_name": "LayoutModel",
      "state": {}
     },
     "83bb75d8145d4ff8820dd704acff89fe": {
      "model_module": "@jupyter-widgets/base",
      "model_module_version": "1.0.0",
      "model_name": "LayoutModel",
      "state": {}
     },
     "85f27051a8b84a198f89a7b8ee52e974": {
      "model_module": "@jupyter-widgets/controls",
      "model_module_version": "1.2.0",
      "model_name": "HTMLModel",
      "state": {
       "layout": "IPY_MODEL_7b44c91b861e4106b65dd91e17ecec27",
       "style": "IPY_MODEL_dd9cb3b1d3424ad2be15c8ccf3bed96d",
       "value": "<div style=\"padding: 0px 10px 5px 10px\"><b>Finished:</b>  9.6s</div>"
      }
     },
     "86101268fbca462e80f8fafd71e58c4e": {
      "model_module": "@jupyter-widgets/controls",
      "model_module_version": "1.2.0",
      "model_name": "DescriptionStyleModel",
      "state": {
       "description_width": ""
      }
     },
     "88cd6647856542fb95e828f4a8b495ef": {
      "model_module": "@jupyter-widgets/controls",
      "model_module_version": "1.2.0",
      "model_name": "HTMLModel",
      "state": {
       "layout": "IPY_MODEL_ff00c379988942dfbb27edbe7fd2657e",
       "style": "IPY_MODEL_b44d97503b474a8b9b0e7a2b5b315d90",
       "value": "\n<div>\n  <style scoped>\n    .dataframe tbody tr th:only-of-type {\n        vertical-align: middle;\n    }\n\n    .dataframe tbody tr th {\n        vertical-align: top;\n    }\n\n    .dataframe thead th {\n        text-align: right;\n    }\n  </style>\n  <table style=\"text-align: right;\">\n    <tr><th>Workers</th> <td>25</td></tr>\n    <tr><th>Cores</th> <td>50</td></tr>\n    <tr><th>Memory</th> <td>150.00 GB</td></tr>\n  </table>\n</div>\n"
      }
     },
     "8969071266cd43a48e1883d371a6925e": {
      "model_module": "@jupyter-widgets/base",
      "model_module_version": "1.0.0",
      "model_name": "LayoutModel",
      "state": {}
     },
     "8ae25cfa1b8b4edc9592d8aec036382a": {
      "model_module": "@jupyter-widgets/controls",
      "model_module_version": "1.2.0",
      "model_name": "HTMLModel",
      "state": {
       "layout": "IPY_MODEL_3ed646582c8d4bb3acf3d570cc247a46",
       "style": "IPY_MODEL_cefaefd34f1c400aa4850cb350a06ec0",
       "value": "<div style=\"padding: 0px 10px 0px 10px; text-align:left; word-wrap: break-word;\">zarr</div>"
      }
     },
     "8c5ec29b0dcb495fac96f0a2ef6c363f": {
      "model_module": "@jupyter-widgets/controls",
      "model_module_version": "1.2.0",
      "model_name": "ProgressStyleModel",
      "state": {
       "description_width": ""
      }
     },
     "8d95a18e27704e2397a8a82717fb0926": {
      "model_module": "@jupyter-widgets/base",
      "model_module_version": "1.0.0",
      "model_name": "LayoutModel",
      "state": {}
     },
     "8dec0baa3d314415bcb90c50a09f9b4e": {
      "model_module": "@jupyter-widgets/controls",
      "model_module_version": "1.2.0",
      "model_name": "DescriptionStyleModel",
      "state": {
       "description_width": ""
      }
     },
     "8fddb56a1aaa48108267d5b4df00ed51": {
      "model_module": "@jupyter-widgets/controls",
      "model_module_version": "1.2.0",
      "model_name": "AccordionModel",
      "state": {
       "_titles": {
        "0": "Manual Scaling",
        "1": "Adaptive Scaling"
       },
       "children": [
        "IPY_MODEL_543767ebd75d463d99a82161866d254e",
        "IPY_MODEL_362b714b642b4e21a30dc2825113d84c"
       ],
       "layout": "IPY_MODEL_0adf05c2d30c4f74b4c33feeac3b7714",
       "selected_index": null
      }
     },
     "91ed33c026584a8a9ddedef467695519": {
      "model_module": "@jupyter-widgets/base",
      "model_module_version": "1.0.0",
      "model_name": "LayoutModel",
      "state": {}
     },
     "98bbaaee86034d9daebeab97bc4af4ab": {
      "model_module": "@jupyter-widgets/controls",
      "model_module_version": "1.2.0",
      "model_name": "ButtonStyleModel",
      "state": {}
     },
     "99922b035c9c4413acae23209aec3097": {
      "model_module": "@jupyter-widgets/controls",
      "model_module_version": "1.2.0",
      "model_name": "IntTextModel",
      "state": {
       "description": "Workers",
       "layout": "IPY_MODEL_afd93069108d458c8c693557efa22fff",
       "step": 1,
       "style": "IPY_MODEL_cfde6dccc6a3475ca249706cc82df2fb"
      }
     },
     "9a8207bbbfa1418aa9b95ea6cee206cf": {
      "model_module": "@jupyter-widgets/base",
      "model_module_version": "1.0.0",
      "model_name": "LayoutModel",
      "state": {}
     },
     "9b1081594c34484cbcf61140f7c8fa72": {
      "model_module": "@jupyter-widgets/base",
      "model_module_version": "1.0.0",
      "model_name": "LayoutModel",
      "state": {}
     },
     "9b939f7d316f44dd8239986f02e400f7": {
      "model_module": "@jupyter-widgets/controls",
      "model_module_version": "1.2.0",
      "model_name": "DescriptionStyleModel",
      "state": {
       "description_width": ""
      }
     },
     "9be4a63975514c75a6b161c5c9898b79": {
      "model_module": "@jupyter-widgets/controls",
      "model_module_version": "1.2.0",
      "model_name": "DescriptionStyleModel",
      "state": {
       "description_width": ""
      }
     },
     "9c1ab6d913334b1f8d33cae7f551fc39": {
      "model_module": "@jupyter-widgets/controls",
      "model_module_version": "1.2.0",
      "model_name": "HTMLModel",
      "state": {
       "layout": "IPY_MODEL_ef417ac42d2348df827b971dae9c18d4",
       "style": "IPY_MODEL_cd740bfaa32340b2b102f9adfb0f0a98",
       "value": "<div style=\"padding: 0px 10px 0px 10px; text-align: right\">161 / 161</div>"
      }
     },
     "9e2be92f07ae4d86aa88d867d19c0cf4": {
      "model_module": "@jupyter-widgets/base",
      "model_module_version": "1.0.0",
      "model_name": "LayoutModel",
      "state": {}
     },
     "a3c59209c5bb43808054360cae5b0858": {
      "model_module": "@jupyter-widgets/controls",
      "model_module_version": "1.2.0",
      "model_name": "ProgressStyleModel",
      "state": {
       "description_width": ""
      }
     },
     "a3f7fd0fb9b04a6bb736c7dc6ebd3d65": {
      "model_module": "@jupyter-widgets/controls",
      "model_module_version": "1.2.0",
      "model_name": "FloatProgressModel",
      "state": {
       "bar_style": "success",
       "layout": "IPY_MODEL_e23e334d17e046f4b377084b5510b342",
       "max": 1,
       "style": "IPY_MODEL_233a98b486e14bc49e97003431879fd9",
       "value": 1
      }
     },
     "a43c7e7a97df4872b95468547c5e9c8b": {
      "model_module": "@jupyter-widgets/base",
      "model_module_version": "1.0.0",
      "model_name": "LayoutModel",
      "state": {}
     },
     "a5bb45b65b784146a0c89e505d5fa0ec": {
      "model_module": "@jupyter-widgets/controls",
      "model_module_version": "1.2.0",
      "model_name": "HBoxModel",
      "state": {
       "children": [
        "IPY_MODEL_fa93d0012f54485fa094a94bd976498c",
        "IPY_MODEL_bc0a6e877cbf40c8be0b3517ebf6de42",
        "IPY_MODEL_ba3d8f2e6d4b491c802c8c9f920a8b18"
       ],
       "layout": "IPY_MODEL_5b06299c6c0449339ca9d11b509f7076"
      }
     },
     "a9313b97ec64439badde901a3530e540": {
      "model_module": "@jupyter-widgets/base",
      "model_module_version": "1.0.0",
      "model_name": "LayoutModel",
      "state": {}
     },
     "a9f04fb1f6f34e7b814e5799da594b04": {
      "model_module": "@jupyter-widgets/controls",
      "model_module_version": "1.2.0",
      "model_name": "DescriptionStyleModel",
      "state": {
       "description_width": ""
      }
     },
     "aa2e0fc497d2406aa8ca2861e7c1e491": {
      "model_module": "@jupyter-widgets/controls",
      "model_module_version": "1.2.0",
      "model_name": "HTMLModel",
      "state": {
       "layout": "IPY_MODEL_dd604b38e1e442289d18c53054d4b863",
       "style": "IPY_MODEL_0119a1677eb0489898b91eb944d4be61",
       "value": "<h2>KubeCluster</h2>"
      }
     },
     "aafc0131552e41d1a81d9b6bce0afc39": {
      "model_module": "@jupyter-widgets/base",
      "model_module_version": "1.0.0",
      "model_name": "LayoutModel",
      "state": {}
     },
     "ad8f7a77fa9b48c1ba9a93975c49e66f": {
      "model_module": "@jupyter-widgets/base",
      "model_module_version": "1.0.0",
      "model_name": "LayoutModel",
      "state": {}
     },
     "afd93069108d458c8c693557efa22fff": {
      "model_module": "@jupyter-widgets/base",
      "model_module_version": "1.0.0",
      "model_name": "LayoutModel",
      "state": {
       "width": "150px"
      }
     },
     "b17c62e811e3481098c52928e6168b4b": {
      "model_module": "@jupyter-widgets/controls",
      "model_module_version": "1.2.0",
      "model_name": "DescriptionStyleModel",
      "state": {
       "description_width": ""
      }
     },
     "b44d97503b474a8b9b0e7a2b5b315d90": {
      "model_module": "@jupyter-widgets/controls",
      "model_module_version": "1.2.0",
      "model_name": "DescriptionStyleModel",
      "state": {
       "description_width": ""
      }
     },
     "b55c934d1d374400b299a56972d8158a": {
      "model_module": "@jupyter-widgets/base",
      "model_module_version": "1.0.0",
      "model_name": "LayoutModel",
      "state": {}
     },
     "b995d8d11a264feb990c75964bc27e3e": {
      "model_module": "@jupyter-widgets/base",
      "model_module_version": "1.0.0",
      "model_name": "LayoutModel",
      "state": {}
     },
     "ba3d8f2e6d4b491c802c8c9f920a8b18": {
      "model_module": "@jupyter-widgets/controls",
      "model_module_version": "1.2.0",
      "model_name": "HTMLModel",
      "state": {
       "layout": "IPY_MODEL_64613b8800ab4704a6051dc584a83b8b",
       "style": "IPY_MODEL_4fabc8a990ed4d4896147ac460954a52",
       "value": "<div style=\"padding: 0px 10px 0px 10px; text-align:left; word-wrap: break-word;\">mean_chunk</div>"
      }
     },
     "babcb42a54bc4ca18b8b68dd09c46c15": {
      "model_module": "@jupyter-widgets/base",
      "model_module_version": "1.0.0",
      "model_name": "LayoutModel",
      "state": {}
     },
     "bc0a6e877cbf40c8be0b3517ebf6de42": {
      "model_module": "@jupyter-widgets/controls",
      "model_module_version": "1.2.0",
      "model_name": "FloatProgressModel",
      "state": {
       "bar_style": "success",
       "layout": "IPY_MODEL_e46203a953184e9bb1be1249ccfb0bbe",
       "max": 1,
       "style": "IPY_MODEL_6373e9d4120a4dcc97f499a53d1f5580",
       "value": 1
      }
     },
     "bcb645f720554328847ebdd80940b75a": {
      "model_module": "@jupyter-widgets/base",
      "model_module_version": "1.0.0",
      "model_name": "LayoutModel",
      "state": {}
     },
     "be7af075b8c44bb789507531717e51f8": {
      "model_module": "@jupyter-widgets/controls",
      "model_module_version": "1.2.0",
      "model_name": "IntTextModel",
      "state": {
       "description": "Minimum",
       "layout": "IPY_MODEL_d9761f2d6c594c3f953a44b420015e89",
       "step": 1,
       "style": "IPY_MODEL_f2551e59554144c3bee5273080e8bb60"
      }
     },
     "c328349c329c4538856575935766df2a": {
      "model_module": "@jupyter-widgets/controls",
      "model_module_version": "1.2.0",
      "model_name": "DescriptionStyleModel",
      "state": {
       "description_width": ""
      }
     },
     "c37115972bb24a7fb56f1a9df71e6be9": {
      "model_module": "@jupyter-widgets/controls",
      "model_module_version": "1.2.0",
      "model_name": "VBoxModel",
      "state": {
       "children": [
        "IPY_MODEL_58416e9876044ab59a63b4ad6851a087",
        "IPY_MODEL_e95154e5a4a8497a918cbf53e6b02fb6"
       ],
       "layout": "IPY_MODEL_8d95a18e27704e2397a8a82717fb0926"
      }
     },
     "c46e86cd866941508e4c367e2c69387a": {
      "model_module": "@jupyter-widgets/controls",
      "model_module_version": "1.2.0",
      "model_name": "ButtonStyleModel",
      "state": {}
     },
     "c554a1320fe8461fbec636643ccee8f7": {
      "model_module": "@jupyter-widgets/controls",
      "model_module_version": "1.2.0",
      "model_name": "HTMLModel",
      "state": {
       "layout": "IPY_MODEL_51af814611b64098ab453f625536d866",
       "style": "IPY_MODEL_6fd3768a95a34080bac8796abd4003b0",
       "value": "<div style=\"padding: 0px 10px 0px 10px; text-align: right\">161 / 161</div>"
      }
     },
     "c83c753407c246019c65efc4a1a9b011": {
      "model_module": "@jupyter-widgets/controls",
      "model_module_version": "1.2.0",
      "model_name": "ProgressStyleModel",
      "state": {
       "description_width": ""
      }
     },
     "c8f82a1b904441edb9c074f746d8b98a": {
      "model_module": "@jupyter-widgets/base",
      "model_module_version": "1.0.0",
      "model_name": "LayoutModel",
      "state": {}
     },
     "c97d35b70d844254aff1a06cc149a007": {
      "model_module": "@jupyter-widgets/base",
      "model_module_version": "1.0.0",
      "model_name": "LayoutModel",
      "state": {}
     },
     "c9b1654101fc45ac93c94611debee7ab": {
      "model_module": "@jupyter-widgets/controls",
      "model_module_version": "1.2.0",
      "model_name": "DescriptionStyleModel",
      "state": {
       "description_width": ""
      }
     },
     "ca56b62b2b98442c9f40457b5e45c542": {
      "model_module": "@jupyter-widgets/base",
      "model_module_version": "1.0.0",
      "model_name": "LayoutModel",
      "state": {}
     },
     "ca872f013def453ab646d2077555b88f": {
      "model_module": "@jupyter-widgets/base",
      "model_module_version": "1.0.0",
      "model_name": "LayoutModel",
      "state": {}
     },
     "cd740bfaa32340b2b102f9adfb0f0a98": {
      "model_module": "@jupyter-widgets/controls",
      "model_module_version": "1.2.0",
      "model_name": "DescriptionStyleModel",
      "state": {
       "description_width": ""
      }
     },
     "cefaefd34f1c400aa4850cb350a06ec0": {
      "model_module": "@jupyter-widgets/controls",
      "model_module_version": "1.2.0",
      "model_name": "DescriptionStyleModel",
      "state": {
       "description_width": ""
      }
     },
     "cf5935b392a94969a4554b3afed7240f": {
      "model_module": "@jupyter-widgets/controls",
      "model_module_version": "1.2.0",
      "model_name": "HBoxModel",
      "state": {
       "children": [
        "IPY_MODEL_9c1ab6d913334b1f8d33cae7f551fc39",
        "IPY_MODEL_27930d34c4554a3089f3dfd6746f6790",
        "IPY_MODEL_1c919c443ad2433ab02f3802eb25d91e"
       ],
       "layout": "IPY_MODEL_7133490239c1455086603c897d911837"
      }
     },
     "cfde6dccc6a3475ca249706cc82df2fb": {
      "model_module": "@jupyter-widgets/controls",
      "model_module_version": "1.2.0",
      "model_name": "DescriptionStyleModel",
      "state": {
       "description_width": ""
      }
     },
     "d2b5606831174dafb14aba4c0b05466d": {
      "model_module": "@jupyter-widgets/controls",
      "model_module_version": "1.2.0",
      "model_name": "DescriptionStyleModel",
      "state": {
       "description_width": ""
      }
     },
     "d2e8fb64bdf5464aa17e9c7ca0ce04ab": {
      "model_module": "@jupyter-widgets/controls",
      "model_module_version": "1.2.0",
      "model_name": "HBoxModel",
      "state": {
       "children": [
        "IPY_MODEL_f231f08ecca34132b53e6b419d81fef8",
        "IPY_MODEL_13667ea99b524a43aec63f826046f83b",
        "IPY_MODEL_0725d10fe6024d30ac09906d090dcacc"
       ],
       "layout": "IPY_MODEL_8969071266cd43a48e1883d371a6925e"
      }
     },
     "d3728e29a19d4118a51be7c3e12fc52e": {
      "model_module": "@jupyter-widgets/controls",
      "model_module_version": "1.2.0",
      "model_name": "IntTextModel",
      "state": {
       "description": "Workers",
       "layout": "IPY_MODEL_d9761f2d6c594c3f953a44b420015e89",
       "step": 1,
       "style": "IPY_MODEL_b17c62e811e3481098c52928e6168b4b"
      }
     },
     "d9761f2d6c594c3f953a44b420015e89": {
      "model_module": "@jupyter-widgets/base",
      "model_module_version": "1.0.0",
      "model_name": "LayoutModel",
      "state": {
       "width": "150px"
      }
     },
     "d97b382ed1e24ab2a0d88de1330ae919": {
      "model_module": "@jupyter-widgets/controls",
      "model_module_version": "1.2.0",
      "model_name": "VBoxModel",
      "state": {
       "children": [
        "IPY_MODEL_5ce7f73473f045eda8123e2b480a17ee",
        "IPY_MODEL_7757467c7fa6482fb554cd8298e0b541",
        "IPY_MODEL_d2e8fb64bdf5464aa17e9c7ca0ce04ab"
       ],
       "layout": "IPY_MODEL_1848f9b55a6b4407a1b9cad5c8a4d049"
      }
     },
     "d97f62e8838a49508df5fd5b41325cd0": {
      "model_module": "@jupyter-widgets/controls",
      "model_module_version": "1.2.0",
      "model_name": "DescriptionStyleModel",
      "state": {
       "description_width": ""
      }
     },
     "daf53e7634a84b189f63c0024b481436": {
      "model_module": "@jupyter-widgets/controls",
      "model_module_version": "1.2.0",
      "model_name": "AccordionModel",
      "state": {
       "_titles": {
        "0": "Manual Scaling",
        "1": "Adaptive Scaling"
       },
       "children": [
        "IPY_MODEL_e953f8f66ed248f69676fffcd03c256c",
        "IPY_MODEL_20267df576e541a59397e7e1c1e5d673"
       ],
       "layout": "IPY_MODEL_554c86632f70410887710ac5a5c6ea17",
       "selected_index": null
      }
     },
     "dc2155e9ffb64c34b67c718f33472be1": {
      "model_module": "@jupyter-widgets/controls",
      "model_module_version": "1.2.0",
      "model_name": "HBoxModel",
      "state": {
       "children": [
        "IPY_MODEL_30c985a0334c4c41911437e1584851ce",
        "IPY_MODEL_a3f7fd0fb9b04a6bb736c7dc6ebd3d65",
        "IPY_MODEL_28c5efb27d524e4a800ad8b860ac5cd6"
       ],
       "layout": "IPY_MODEL_2d1eff98935c475883ec787780dd799f"
      }
     },
     "dd604b38e1e442289d18c53054d4b863": {
      "model_module": "@jupyter-widgets/base",
      "model_module_version": "1.0.0",
      "model_name": "LayoutModel",
      "state": {}
     },
     "dd9cb3b1d3424ad2be15c8ccf3bed96d": {
      "model_module": "@jupyter-widgets/controls",
      "model_module_version": "1.2.0",
      "model_name": "DescriptionStyleModel",
      "state": {
       "description_width": ""
      }
     },
     "de5c08ede95a4b9e81cec2015eebefdb": {
      "model_module": "@jupyter-widgets/controls",
      "model_module_version": "1.2.0",
      "model_name": "DescriptionStyleModel",
      "state": {
       "description_width": ""
      }
     },
     "def57b73f76b4ee090bd7c7aac156b40": {
      "model_module": "@jupyter-widgets/base",
      "model_module_version": "1.0.0",
      "model_name": "LayoutModel",
      "state": {}
     },
     "e23e334d17e046f4b377084b5510b342": {
      "model_module": "@jupyter-widgets/base",
      "model_module_version": "1.0.0",
      "model_name": "LayoutModel",
      "state": {}
     },
     "e2c1293912ea43328a4124a623218964": {
      "model_module": "@jupyter-widgets/base",
      "model_module_version": "1.0.0",
      "model_name": "LayoutModel",
      "state": {}
     },
     "e3e5900b3eb8483c9fb843a5c2d9c029": {
      "model_module": "@jupyter-widgets/controls",
      "model_module_version": "1.2.0",
      "model_name": "DescriptionStyleModel",
      "state": {
       "description_width": ""
      }
     },
     "e4063a066dea4a9c9b9d9f48d8f5fdef": {
      "model_module": "@jupyter-widgets/controls",
      "model_module_version": "1.2.0",
      "model_name": "HBoxModel",
      "state": {
       "children": [
        "IPY_MODEL_88cd6647856542fb95e828f4a8b495ef",
        "IPY_MODEL_8fddb56a1aaa48108267d5b4df00ed51"
       ],
       "layout": "IPY_MODEL_f20ac7b411e14dad87734fbc058d72b1"
      }
     },
     "e46203a953184e9bb1be1249ccfb0bbe": {
      "model_module": "@jupyter-widgets/base",
      "model_module_version": "1.0.0",
      "model_name": "LayoutModel",
      "state": {}
     },
     "e6baee8b096947f6bb9399f601b1038c": {
      "model_module": "@jupyter-widgets/base",
      "model_module_version": "1.0.0",
      "model_name": "LayoutModel",
      "state": {}
     },
     "e6fdf358a22a4faeaddd441fade076a2": {
      "model_module": "@jupyter-widgets/controls",
      "model_module_version": "1.2.0",
      "model_name": "HTMLModel",
      "state": {
       "layout": "IPY_MODEL_a9313b97ec64439badde901a3530e540",
       "style": "IPY_MODEL_5d7e905ce7124fce9ae0db1c631b143a",
       "value": "<div style=\"padding: 0px 10px 5px 10px\"><b>Finished:</b>  6.6s</div>"
      }
     },
     "e7ee5b44f0094644893a665ab98685ad": {
      "model_module": "@jupyter-widgets/base",
      "model_module_version": "1.0.0",
      "model_name": "LayoutModel",
      "state": {}
     },
     "e95154e5a4a8497a918cbf53e6b02fb6": {
      "model_module": "@jupyter-widgets/controls",
      "model_module_version": "1.2.0",
      "model_name": "VBoxModel",
      "state": {
       "children": [
        "IPY_MODEL_68476ea69db448a9b0a912bd95ff29fc",
        "IPY_MODEL_5bc00dac00c343dd86eb9b2dc47a2583",
        "IPY_MODEL_dc2155e9ffb64c34b67c718f33472be1"
       ],
       "layout": "IPY_MODEL_465dbeb110b346ce874372a4d5986c2f"
      }
     },
     "e953f8f66ed248f69676fffcd03c256c": {
      "model_module": "@jupyter-widgets/controls",
      "model_module_version": "1.2.0",
      "model_name": "HBoxModel",
      "state": {
       "children": [
        "IPY_MODEL_99922b035c9c4413acae23209aec3097",
        "IPY_MODEL_594995797de44e599ccf626b5ac9620d"
       ],
       "layout": "IPY_MODEL_6ffaa852913d41b6a47456bd8b1a32f7"
      }
     },
     "ea574a7fd1e84d1fa65f693392b15131": {
      "model_module": "@jupyter-widgets/controls",
      "model_module_version": "1.2.0",
      "model_name": "HTMLModel",
      "state": {
       "layout": "IPY_MODEL_73277f034f7a4e3f84d28db5b1dabb71",
       "style": "IPY_MODEL_e3e5900b3eb8483c9fb843a5c2d9c029",
       "value": "<div style=\"padding: 0px 10px 0px 10px; text-align:left; word-wrap: break-word;\">mean_agg-aggregate</div>"
      }
     },
     "eac0a89c56da4d5abc99d1061c117b41": {
      "model_module": "@jupyter-widgets/base",
      "model_module_version": "1.0.0",
      "model_name": "LayoutModel",
      "state": {}
     },
     "ed301af895ab44cfb47791b43eafa12b": {
      "model_module": "@jupyter-widgets/base",
      "model_module_version": "1.0.0",
      "model_name": "LayoutModel",
      "state": {}
     },
     "ef417ac42d2348df827b971dae9c18d4": {
      "model_module": "@jupyter-widgets/base",
      "model_module_version": "1.0.0",
      "model_name": "LayoutModel",
      "state": {}
     },
     "f10024106e53499e826ebcd62bf7172c": {
      "model_module": "@jupyter-widgets/base",
      "model_module_version": "1.0.0",
      "model_name": "LayoutModel",
      "state": {}
     },
     "f1c2fc653b0548adb78e0709bc99d87d": {
      "model_module": "@jupyter-widgets/controls",
      "model_module_version": "1.2.0",
      "model_name": "VBoxModel",
      "state": {
       "children": [
        "IPY_MODEL_aa2e0fc497d2406aa8ca2861e7c1e491",
        "IPY_MODEL_7519f0697a534c08a7805a8ac691a8b3",
        "IPY_MODEL_5fb4d567c88840ad9a03d5d9c5aaeb48"
       ],
       "layout": "IPY_MODEL_bcb645f720554328847ebdd80940b75a"
      }
     },
     "f20ac7b411e14dad87734fbc058d72b1": {
      "model_module": "@jupyter-widgets/base",
      "model_module_version": "1.0.0",
      "model_name": "LayoutModel",
      "state": {}
     },
     "f231f08ecca34132b53e6b419d81fef8": {
      "model_module": "@jupyter-widgets/controls",
      "model_module_version": "1.2.0",
      "model_name": "HTMLModel",
      "state": {
       "layout": "IPY_MODEL_ca872f013def453ab646d2077555b88f",
       "style": "IPY_MODEL_d2b5606831174dafb14aba4c0b05466d",
       "value": "<div style=\"padding: 0px 10px 0px 10px; text-align: right\">160 / 160</div>"
      }
     },
     "f2551e59554144c3bee5273080e8bb60": {
      "model_module": "@jupyter-widgets/controls",
      "model_module_version": "1.2.0",
      "model_name": "DescriptionStyleModel",
      "state": {
       "description_width": ""
      }
     },
     "fa93d0012f54485fa094a94bd976498c": {
      "model_module": "@jupyter-widgets/controls",
      "model_module_version": "1.2.0",
      "model_name": "HTMLModel",
      "state": {
       "layout": "IPY_MODEL_71b84b0bac2747c681004651a951f02b",
       "style": "IPY_MODEL_82e953ba21a447d0876b81b3dbe683eb",
       "value": "<div style=\"padding: 0px 10px 0px 10px; text-align: right\">160 / 160</div>"
      }
     },
     "fab1755ba40445678ffa0dd6465f0197": {
      "model_module": "@jupyter-widgets/controls",
      "model_module_version": "1.2.0",
      "model_name": "FloatProgressModel",
      "state": {
       "bar_style": "success",
       "layout": "IPY_MODEL_62e1127c2908448f83010f261a110a45",
       "max": 1,
       "style": "IPY_MODEL_4525e42d0282458986fe7064517c5270",
       "value": 1
      }
     },
     "fb15b6c526e24ca4991a00fa3c11bb4d": {
      "model_module": "@jupyter-widgets/controls",
      "model_module_version": "1.2.0",
      "model_name": "ButtonModel",
      "state": {
       "description": "Scale",
       "layout": "IPY_MODEL_d9761f2d6c594c3f953a44b420015e89",
       "style": "IPY_MODEL_53c363c1e19147e9abbbd920131f0308"
      }
     },
     "fb28cc1a6c7a4a9fa6856352589a3040": {
      "model_module": "@jupyter-widgets/controls",
      "model_module_version": "1.2.0",
      "model_name": "DescriptionStyleModel",
      "state": {
       "description_width": ""
      }
     },
     "fd642768735b4e6285701dcdf43d14b7": {
      "model_module": "@jupyter-widgets/base",
      "model_module_version": "1.0.0",
      "model_name": "LayoutModel",
      "state": {}
     },
     "fddcd28be4c44e38a9bff3250a09c9d3": {
      "model_module": "@jupyter-widgets/controls",
      "model_module_version": "1.2.0",
      "model_name": "DescriptionStyleModel",
      "state": {
       "description_width": ""
      }
     },
     "ff00c379988942dfbb27edbe7fd2657e": {
      "model_module": "@jupyter-widgets/base",
      "model_module_version": "1.0.0",
      "model_name": "LayoutModel",
      "state": {
       "min_width": "150px"
      }
     }
    },
    "version_major": 2,
    "version_minor": 0
   }
  }
 },
 "nbformat": 4,
 "nbformat_minor": 2
}
